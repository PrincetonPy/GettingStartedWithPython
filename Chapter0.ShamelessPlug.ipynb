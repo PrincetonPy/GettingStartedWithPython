{
 "metadata": {
  "name": ""
 },
 "nbformat": 3,
 "nbformat_minor": 0,
 "worksheets": [
  {
   "cells": [
    {
     "cell_type": "heading",
     "level": 1,
     "metadata": {},
     "source": [
      "Chapter 0. Shameless Plug"
     ]
    },
    {
     "cell_type": "markdown",
     "metadata": {},
     "source": [
      "We're a growing community, and we have a website ! Check us out at"
     ]
    },
    {
     "cell_type": "heading",
     "level": 1,
     "metadata": {},
     "source": [
      "**`princetonpy.com`**"
     ]
    },
    {
     "cell_type": "markdown",
     "metadata": {},
     "source": [
      "We have a discussion forum on which you're welcome to discuss Python-related stuffs and ask questions. It's a great place to do so, because everyone can then see the discussion, rather than having it by email."
     ]
    },
    {
     "cell_type": "markdown",
     "metadata": {},
     "source": [
      "Also : quick thanks to our sponsers : the **Department of Ecology and Evolutionary Biology**, the **Department of Geosciences**, and **Bryan Grenfell (EEB)** for some extra funding. We really appreciate it !"
     ]
    },
    {
     "cell_type": "code",
     "collapsed": false,
     "input": [],
     "language": "python",
     "metadata": {},
     "outputs": []
    }
   ],
   "metadata": {}
  }
 ]
}