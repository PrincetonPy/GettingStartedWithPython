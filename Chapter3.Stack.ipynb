{
 "metadata": {
  "name": ""
 },
 "nbformat": 3,
 "nbformat_minor": 0,
 "worksheets": [
  {
   "cells": [
    {
     "cell_type": "heading",
     "level": 1,
     "metadata": {},
     "source": [
      "The Scientific Python Stack"
     ]
    },
    {
     "cell_type": "markdown",
     "metadata": {},
     "source": [
      "The scientific Python stack consists of Numpy, Scipy, and Matplotlib. Numpy brings to Python what Matlab is well known for : strong array manipulation and matrix operations, elementary mathematical functions, random numbers, ..."
     ]
    },
    {
     "cell_type": "code",
     "collapsed": false,
     "input": [
      "import numpy as np\n",
      "\n",
      "A = np.ones(10)\n",
      "B = np.arange(5, 10, 0.1) # like range(), but allows non-integer stride\n",
      "C = np.linspace(0, 2 * np.pi, 30) # between a and b in c steps\n",
      "D = np.random.normal(0, 1, 20) # also beta, binomial, gamma, poisson, uniform, lognormal, negative binomial, geometric, ...\n",
      "E = np.sin(C)\n",
      "\n",
      "print A, \"\\n\"\n",
      "print B, \"\\n\"\n",
      "print C, \"\\n\"\n",
      "print D, \"\\n\"\n",
      "print E"
     ],
     "language": "python",
     "metadata": {},
     "outputs": [
      {
       "output_type": "stream",
       "stream": "stdout",
       "text": [
        "[ 1.  1.  1.  1.  1.  1.  1.  1.  1.  1.] \n",
        "\n",
        "[ 5.   5.1  5.2  5.3  5.4  5.5  5.6  5.7  5.8  5.9  6.   6.1  6.2  6.3  6.4\n",
        "  6.5  6.6  6.7  6.8  6.9  7.   7.1  7.2  7.3  7.4  7.5  7.6  7.7  7.8  7.9\n",
        "  8.   8.1  8.2  8.3  8.4  8.5  8.6  8.7  8.8  8.9  9.   9.1  9.2  9.3  9.4\n",
        "  9.5  9.6  9.7  9.8  9.9] \n",
        "\n",
        "[ 0.          0.21666156  0.43332312  0.64998469  0.86664625  1.08330781\n",
        "  1.29996937  1.51663094  1.7332925   1.94995406  2.16661562  2.38327719\n",
        "  2.59993875  2.81660031  3.03326187  3.24992343  3.466585    3.68324656\n",
        "  3.89990812  4.11656968  4.33323125  4.54989281  4.76655437  4.98321593\n",
        "  5.1998775   5.41653906  5.63320062  5.84986218  6.06652374  6.28318531] \n",
        "\n",
        "[-0.98189204 -0.58611512  1.58800176 -0.9281483   1.06510968  0.8507472\n",
        " -1.4315527  -0.31871079  0.20131501 -0.08079119 -0.73679295  0.23427112\n",
        "  0.18814395  0.46756174  0.39062454  0.13378789 -0.49214194 -0.72168981\n",
        " -0.25113278  0.67123937] \n",
        "\n",
        "[  0.00000000e+00   2.14970440e-01   4.19889102e-01   6.05174215e-01\n",
        "   7.62162055e-01   8.83512044e-01   9.63549993e-01   9.98533414e-01\n",
        "   9.86826523e-01   9.28976720e-01   8.27688998e-01   6.87699459e-01\n",
        "   5.15553857e-01   3.19301530e-01   1.08119018e-01  -1.08119018e-01\n",
        "  -3.19301530e-01  -5.15553857e-01  -6.87699459e-01  -8.27688998e-01\n",
        "  -9.28976720e-01  -9.86826523e-01  -9.98533414e-01  -9.63549993e-01\n",
        "  -8.83512044e-01  -7.62162055e-01  -6.05174215e-01  -4.19889102e-01\n",
        "  -2.14970440e-01  -2.44929360e-16]\n"
       ]
      }
     ],
     "prompt_number": 16
    },
    {
     "cell_type": "markdown",
     "metadata": {},
     "source": [
      "Before we go on, a note on *namespaces*. A namespace is a way to \"partition\" your functions into different spaces. This is particularly useful because you may have functions with the same name, but they may not do the same thing :"
     ]
    },
    {
     "cell_type": "code",
     "collapsed": false,
     "input": [
      "print sin(0.5)\n",
      "print np.sin(0.5)\n",
      "\n",
      "sin(0.5) == np.sin(0.5)"
     ],
     "language": "python",
     "metadata": {},
     "outputs": [
      {
       "output_type": "stream",
       "stream": "stdout",
       "text": [
        "0.479425538604\n",
        "0.479425538604\n"
       ]
      },
      {
       "metadata": {},
       "output_type": "pyout",
       "prompt_number": 41,
       "text": [
        "True"
       ]
      }
     ],
     "prompt_number": 41
    },
    {
     "cell_type": "code",
     "collapsed": false,
     "input": [
      "x = [] # x is an empty list ( not a numpy array here )\n",
      "for i in range(10) :\n",
      "    x.append(float(i) / 10)\n",
      "\n",
      "# Equivalent numpy array generation\n",
      "y = np.arange(0, 1, 0.1)\n",
      "\n",
      "# These should still be equal\n",
      "print sin(y), \"\\n\"\n",
      "print np.sin(y)"
     ],
     "language": "python",
     "metadata": {},
     "outputs": [
      {
       "output_type": "stream",
       "stream": "stdout",
       "text": [
        "[ 0.          0.09983342  0.19866933  0.29552021  0.38941834  0.47942554\n",
        "  0.56464247  0.64421769  0.71735609  0.78332691] \n",
        "\n",
        "[ 0.          0.09983342  0.19866933  0.29552021  0.38941834  0.47942554\n",
        "  0.56464247  0.64421769  0.71735609  0.78332691]\n"
       ]
      }
     ],
     "prompt_number": 49
    },
    {
     "cell_type": "code",
     "collapsed": false,
     "input": [
      "# Numpy arrays can be easily manipulated\n",
      "blah = np.random.lognormal(0, 1, (5, 3))\n",
      "\n",
      "print np.dot(blah, blah.T), \"\\n\"\n",
      "print blah.shape, \"\\n\"\n",
      "print type(blah)"
     ],
     "language": "python",
     "metadata": {},
     "outputs": [
      {
       "output_type": "stream",
       "stream": "stdout",
       "text": [
        "[[  8.51713884   6.91034565   7.68810156   2.69320072   4.27556815]\n",
        " [  6.91034565   8.90777709  10.88645377   3.13778003   3.36210778]\n",
        " [  7.68810156  10.88645377  14.61116563   2.24539017   2.38654341]\n",
        " [  2.69320072   3.13778003   2.24539017   3.20013026   3.11656473]\n",
        " [  4.27556815   3.36210778   2.38654341   3.11656473   3.70435789]] \n",
        "\n",
        "(5, 3) \n",
        "\n",
        "<type 'numpy.ndarray'>\n"
       ]
      }
     ],
     "prompt_number": 34
    },
    {
     "cell_type": "code",
     "collapsed": false,
     "input": [
      "# The numpy array is its own type, but it's still a container. It expands on the capabilities of the standard Python list.\n",
      "# Access is easier though : for multidimensional arrays, you just use a comma per dimension\n",
      "print type(blah[0, 0])"
     ],
     "language": "python",
     "metadata": {},
     "outputs": [
      {
       "output_type": "stream",
       "stream": "stdout",
       "text": [
        "<type 'numpy.float64'>\n"
       ]
      }
     ],
     "prompt_number": 35
    },
    {
     "cell_type": "code",
     "collapsed": false,
     "input": [
      "# The : operator still works great. Standard arithmetic is ELEMENT-wise. Dimensions are broadcast.\n",
      "print blah[:, 1] * blah[:, 2] - 2.5"
     ],
     "language": "python",
     "metadata": {},
     "outputs": [
      {
       "output_type": "stream",
       "stream": "stdout",
       "text": [
        "[ 1.17124417 -0.56444793 -0.2318266  -2.40826853 -2.12920678]\n"
       ]
      }
     ],
     "prompt_number": 38
    },
    {
     "cell_type": "code",
     "collapsed": false,
     "input": [],
     "language": "python",
     "metadata": {},
     "outputs": []
    }
   ],
   "metadata": {}
  }
 ]
}